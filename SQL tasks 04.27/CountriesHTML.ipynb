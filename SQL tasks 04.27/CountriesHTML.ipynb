{
 "cells": [
  {
   "cell_type": "code",
   "execution_count": 1,
   "id": "aba06caa",
   "metadata": {},
   "outputs": [
    {
     "data": {
      "text/plain": [
       "3"
      ]
     },
     "execution_count": 1,
     "metadata": {},
     "output_type": "execute_result"
    }
   ],
   "source": [
    "import mysql.connector\n",
    "import pandas as pd\n",
    "import pymysql\n",
    "\n",
    "from sqlalchemy import create_engine\n",
    "engine = create_engine(\"mysql+pymysql://root:@localhost/countries\")\n",
    "\n",
    "df = pd.read_excel(r\"C:\\Users\\pauli\\Desktop\\PhytonCourse\\GITintro\\My Repository\\SQL tasks 04.27\\countries.xlsx\")\n",
    "\n",
    "df.to_sql(name=\"baltic_countries\",con=engine,if_exists=\"append\",index=False)"
   ]
  },
  {
   "cell_type": "code",
   "execution_count": 7,
   "id": "faa1dfd3",
   "metadata": {},
   "outputs": [
    {
     "data": {
      "text/plain": [
       "9"
      ]
     },
     "execution_count": 7,
     "metadata": {},
     "output_type": "execute_result"
    }
   ],
   "source": [
    "import mysql.connector\n",
    "import pandas as pd\n",
    "import pymysql\n",
    "\n",
    "from sqlalchemy import create_engine\n",
    "engine = create_engine(\"mysql+pymysql://root:@localhost/countries\")\n",
    "\n",
    "cf = pd.read_excel(r\"C:\\Users\\pauli\\Desktop\\PhytonCourse\\GITintro\\My Repository\\SQL tasks 04.27\\cities.xlsx\")\n",
    "cf.to_sql(name=\"baltic_cities\",con=engine,if_exists=\"append\",index=False)"
   ]
  },
  {
   "cell_type": "code",
   "execution_count": 3,
   "id": "63c5523f",
   "metadata": {},
   "outputs": [
    {
     "name": "stdout",
     "output_type": "stream",
     "text": [
      "('Vilnius', 'Lietuva', '402 km2', '581 475', '1 450 p./km²', '1323', 'Valdas Benkunskas')\n",
      "('Kaunas', 'Lietuva', '157 km2', '305 120', '1 943 p./km²', '1361', 'Visvaldas Matijošaitis')\n",
      "('Klaipėda', 'Lietuva', '98 km2', '158 420', '1 617 p./km²', '1252', 'Arvydas Vaitkus')\n"
     ]
    }
   ],
   "source": [
    "import mysql.connector\n",
    "cnx = mysql.connector.connect(user='root',\n",
    "password='',\n",
    "host='localhost',\n",
    "database='countries')\n",
    "\n",
    "cursor = cnx.cursor()\n",
    "\n",
    "query = \"SELECT * FROM `baltic_cities` WHERE Country = 'Lietuva'\"\n",
    "cursor.execute(query)\n",
    "\n",
    "\n",
    "# Fetching the results\n",
    "for row in cursor.fetchall():\n",
    "    print(row)\n",
    "# Closing the cursor and connection\n",
    "cursor.close()\n",
    "cnx.close()"
   ]
  },
  {
   "cell_type": "code",
   "execution_count": 4,
   "id": "85c41ec6",
   "metadata": {},
   "outputs": [],
   "source": [
    "import pandas as pd\n",
    "import pymysql\n",
    "\n",
    "from sqlalchemy import create_engine\n",
    "from sqlalchemy import text\n",
    "\n",
    "\n",
    "engine = create_engine(\"mysql+pymysql://root:@localhost/countries\")\n",
    " \n",
    "\n",
    "with engine.begin() as con:\n",
    "    query = text(\"SELECT * FROM `baltic_cities` WHERE Country = 'Lietuva'\")\n",
    "    suppliers_df = pd.read_sql(query,con)\n",
    "\n",
    "    suppliers_df.to_excel(\"Cities_LT.xlsx\",index=False)"
   ]
  }
 ],
 "metadata": {
  "kernelspec": {
   "display_name": "Python 3 (ipykernel)",
   "language": "python",
   "name": "python3"
  },
  "language_info": {
   "codemirror_mode": {
    "name": "ipython",
    "version": 3
   },
   "file_extension": ".py",
   "mimetype": "text/x-python",
   "name": "python",
   "nbconvert_exporter": "python",
   "pygments_lexer": "ipython3",
   "version": "3.11.2"
  }
 },
 "nbformat": 4,
 "nbformat_minor": 5
}
