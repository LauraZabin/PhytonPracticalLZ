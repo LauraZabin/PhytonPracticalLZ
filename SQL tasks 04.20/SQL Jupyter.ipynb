{
 "cells": [
  {
   "cell_type": "code",
   "execution_count": 7,
   "id": "6f9828c4",
   "metadata": {},
   "outputs": [],
   "source": [
    "import mysql.connector\n",
    "\n",
    "# Establishing a connection to the database\n",
    "cnx = mysql.connector.connect(user='root',\n",
    "password='',\n",
    "host='localhost',\n",
    "database='python course')\n",
    "\n",
    "# Closing the connection\n",
    "cnx.close()"
   ]
  },
  {
   "cell_type": "code",
   "execution_count": 4,
   "id": "729fa164",
   "metadata": {},
   "outputs": [],
   "source": [
    "cnx = mysql.connector.connect(user='root',\n",
    "password='',\n",
    "host='localhost',\n",
    "database='python course')\n",
    "\n",
    "# Creating a cursor object\n",
    "cursor = cnx.cursor()\n",
    "\n",
    "# Inserting a new row\n",
    "query = \"INSERT INTO suppliers(Supplier_Name, Supplie_Contact, Supplier_email, Supplier_tel_no) VALUES ('Moka','Vale','info@moka.com','+3706330011')\"\n",
    "cursor.execute(query)\n",
    "\n",
    "# Committing the transaction\n",
    "cnx.commit()\n",
    "# Closing the cursor and connection\n",
    "cursor.close()\n",
    "\n",
    "cnx.close()"
   ]
  },
  {
   "cell_type": "code",
   "execution_count": null,
   "id": "ebb1bc63",
   "metadata": {},
   "outputs": [],
   "source": []
  },
  {
   "cell_type": "code",
   "execution_count": 6,
   "id": "c9fc5dc3",
   "metadata": {},
   "outputs": [
    {
     "name": "stdout",
     "output_type": "stream",
     "text": [
      "(1, 'NAME_IT', 'Sera Pinas', 'name_it@.com', '+3706111222')\n",
      "(2, 'HANA', 'Marius Bara', 'HANA@.com', '+3706555432')\n",
      "(3, 'MAX', 'Robe Petra', 'MAX@.com', '+3706779934')\n",
      "(4, 'YOO', 'Julius Naunas', 'YOO@com', '+3706758499')\n",
      "(5, 'Moka', 'Vale', 'info@moka.com', '+3706330011')\n"
     ]
    }
   ],
   "source": [
    "cnx = mysql.connector.connect(user='root',\n",
    "password='',\n",
    "host='localhost',\n",
    "database='python course')\n",
    "\n",
    "# Creating a cursor object\n",
    "cursor = cnx.cursor()\n",
    "\n",
    "# Inserting a new row\n",
    "query = \"SELECT * FROM suppliers\"\n",
    "cursor.execute(query)\n",
    "\n",
    "\n",
    "# Fetching the results\n",
    "for row in cursor.fetchall():\n",
    "    print(row)\n",
    "# Closing the cursor and connection\n",
    "cursor.close()\n",
    "cnx.close()"
   ]
  },
  {
   "cell_type": "code",
   "execution_count": 14,
   "id": "e8a5fd7a",
   "metadata": {},
   "outputs": [
    {
     "name": "stdout",
     "output_type": "stream",
     "text": [
      "Enter supplier name:\n",
      "Booo\n",
      "Enter supplier contact:\n",
      "Kara Janis\n",
      "Enter supplier email:\n",
      "karaj@booo.com\n",
      "Enter supplier tel_no:\n",
      "+3706554433\n"
     ]
    }
   ],
   "source": [
    "cnx = mysql.connector.connect(user='root',\n",
    "password='',\n",
    "host='localhost',\n",
    "database='python course')\n",
    "\n",
    "# Creating a cursor object\n",
    "cursor = cnx.cursor()\n",
    "\n",
    "name = input(\"Enter supplier name:\\n\")\n",
    "contact = input(\"Enter supplier contact:\\n\")\n",
    "email = input(\"Enter supplier email:\\n\")\n",
    "phone = input(\"Enter supplier tel_no:\\n\")\n",
    "\n",
    "# Inserting a new row\n",
    "query = \"INSERT INTO suppliers (Supplier_Name, Supplie_Contact, Supplier_email, Supplier_tel_no) VALUES (%s, %s, %s, %s)\"\n",
    "data = (name,contact,email,phone)\n",
    "cursor.execute(query,data)\n",
    "\n",
    "# Committing the transaction\n",
    "cnx.commit()\n",
    "# Closing the cursor and connection\n",
    "cursor.close() \n",
    "\n",
    "cnx.close()"
   ]
  },
  {
   "cell_type": "code",
   "execution_count": 6,
   "id": "b29accc9",
   "metadata": {},
   "outputs": [
    {
     "ename": "NameError",
     "evalue": "name 'mysql' is not defined",
     "output_type": "error",
     "traceback": [
      "\u001b[1;31m---------------------------------------------------------------------------\u001b[0m",
      "\u001b[1;31mNameError\u001b[0m                                 Traceback (most recent call last)",
      "Cell \u001b[1;32mIn[6], line 1\u001b[0m\n\u001b[1;32m----> 1\u001b[0m cnx \u001b[38;5;241m=\u001b[39m \u001b[43mmysql\u001b[49m\u001b[38;5;241m.\u001b[39mconnector\u001b[38;5;241m.\u001b[39mconnect(user\u001b[38;5;241m=\u001b[39m\u001b[38;5;124m'\u001b[39m\u001b[38;5;124mroot\u001b[39m\u001b[38;5;124m'\u001b[39m,\n\u001b[0;32m      2\u001b[0m password\u001b[38;5;241m=\u001b[39m\u001b[38;5;124m'\u001b[39m\u001b[38;5;124m'\u001b[39m,\n\u001b[0;32m      3\u001b[0m host\u001b[38;5;241m=\u001b[39m\u001b[38;5;124m'\u001b[39m\u001b[38;5;124mlocalhost\u001b[39m\u001b[38;5;124m'\u001b[39m,\n\u001b[0;32m      4\u001b[0m database\u001b[38;5;241m=\u001b[39m\u001b[38;5;124m'\u001b[39m\u001b[38;5;124mpython course\u001b[39m\u001b[38;5;124m'\u001b[39m)\n\u001b[0;32m      6\u001b[0m cursor \u001b[38;5;241m=\u001b[39m cnx\u001b[38;5;241m.\u001b[39mcursor()\n\u001b[0;32m      8\u001b[0m \u001b[38;5;28mid\u001b[39m \u001b[38;5;241m=\u001b[39m \u001b[38;5;28mint\u001b[39m(\u001b[38;5;28minput\u001b[39m(\u001b[38;5;124m\"\u001b[39m\u001b[38;5;124mEnter the ID of supplier:\u001b[39m\u001b[38;5;130;01m\\n\u001b[39;00m\u001b[38;5;124m\"\u001b[39m))\n",
      "\u001b[1;31mNameError\u001b[0m: name 'mysql' is not defined"
     ]
    }
   ],
   "source": [
    "cnx = mysql.connector.connect(user='root',\n",
    "password='',\n",
    "host='localhost',\n",
    "database='python course')\n",
    "\n",
    "cursor = cnx.cursor()\n",
    "\n",
    "id = int(input(\"Enter the ID of supplier:\\n\"))\n",
    "cursor = cnx.cursor()\n",
    "\n",
    "query = \"SELECT * FROM suppliers where Supplier_ID = %s\"\n",
    "data = (id,)\n",
    "cursor.execute(query,data)\n",
    "\n",
    "\n",
    "# Fetching the results\n",
    "for row in cursor.fetchall():\n",
    "    print(row)\n",
    "# Closing the cursor and connection\n",
    "cursor.close()\n",
    "cnx.close()"
   ]
  },
  {
   "cell_type": "code",
   "execution_count": 15,
   "id": "05d72d18",
   "metadata": {},
   "outputs": [],
   "source": [
    "import pandas as pd\n",
    "import pymysql\n",
    "\n",
    "from sqlalchemy import text\n",
    "\n",
    "# cnx = mysql.connector.connect(user='root',\n",
    "# password='',\n",
    "# host='localhost',\n",
    "# database='python course')\n",
    "\n",
    "engine = create_engine(\"mysql+pymysql://root:@localhost/python course\")\n",
    " \n",
    "\n",
    "with engine.begin() as con:\n",
    "    query = text(\"SELECT * FROM suppliers\")\n",
    "    suppliers_df = pd.read_sql(query,con)\n",
    "\n"
   ]
  },
  {
   "cell_type": "code",
   "execution_count": 16,
   "id": "1cffd176",
   "metadata": {},
   "outputs": [
    {
     "data": {
      "text/html": [
       "<div>\n",
       "<style scoped>\n",
       "    .dataframe tbody tr th:only-of-type {\n",
       "        vertical-align: middle;\n",
       "    }\n",
       "\n",
       "    .dataframe tbody tr th {\n",
       "        vertical-align: top;\n",
       "    }\n",
       "\n",
       "    .dataframe thead th {\n",
       "        text-align: right;\n",
       "    }\n",
       "</style>\n",
       "<table border=\"1\" class=\"dataframe\">\n",
       "  <thead>\n",
       "    <tr style=\"text-align: right;\">\n",
       "      <th></th>\n",
       "      <th>Supplier_ID</th>\n",
       "      <th>Supplier_Name</th>\n",
       "      <th>Supplie_Contact</th>\n",
       "      <th>Supplier_email</th>\n",
       "      <th>Supplier_tel_no</th>\n",
       "    </tr>\n",
       "  </thead>\n",
       "  <tbody>\n",
       "    <tr>\n",
       "      <th>0</th>\n",
       "      <td>1</td>\n",
       "      <td>NAME_IT</td>\n",
       "      <td>Sera Pinas</td>\n",
       "      <td>name_it@.com</td>\n",
       "      <td>+3706111222</td>\n",
       "    </tr>\n",
       "    <tr>\n",
       "      <th>1</th>\n",
       "      <td>2</td>\n",
       "      <td>HANA</td>\n",
       "      <td>Marius Bara</td>\n",
       "      <td>HANA@.com</td>\n",
       "      <td>+3706555432</td>\n",
       "    </tr>\n",
       "    <tr>\n",
       "      <th>2</th>\n",
       "      <td>3</td>\n",
       "      <td>MAX</td>\n",
       "      <td>Robe Petra</td>\n",
       "      <td>MAX@.com</td>\n",
       "      <td>+3706779934</td>\n",
       "    </tr>\n",
       "    <tr>\n",
       "      <th>3</th>\n",
       "      <td>4</td>\n",
       "      <td>YOO</td>\n",
       "      <td>Julius Naunas</td>\n",
       "      <td>YOO@com</td>\n",
       "      <td>+3706758499</td>\n",
       "    </tr>\n",
       "    <tr>\n",
       "      <th>4</th>\n",
       "      <td>5</td>\n",
       "      <td>Moka</td>\n",
       "      <td>Vale</td>\n",
       "      <td>info@moka.com</td>\n",
       "      <td>+3706330011</td>\n",
       "    </tr>\n",
       "    <tr>\n",
       "      <th>5</th>\n",
       "      <td>6</td>\n",
       "      <td>Krown</td>\n",
       "      <td>Lana Gala</td>\n",
       "      <td>lanag@krown.com</td>\n",
       "      <td>+3706774423</td>\n",
       "    </tr>\n",
       "    <tr>\n",
       "      <th>6</th>\n",
       "      <td>7</td>\n",
       "      <td>Booo</td>\n",
       "      <td>Kara Janis</td>\n",
       "      <td>karaj@booo.com</td>\n",
       "      <td>+3706554433</td>\n",
       "    </tr>\n",
       "  </tbody>\n",
       "</table>\n",
       "</div>"
      ],
      "text/plain": [
       "   Supplier_ID Supplier_Name Supplie_Contact   Supplier_email Supplier_tel_no\n",
       "0            1       NAME_IT      Sera Pinas     name_it@.com     +3706111222\n",
       "1            2          HANA     Marius Bara        HANA@.com     +3706555432\n",
       "2            3           MAX      Robe Petra         MAX@.com     +3706779934\n",
       "3            4           YOO   Julius Naunas          YOO@com     +3706758499\n",
       "4            5          Moka            Vale    info@moka.com     +3706330011\n",
       "5            6         Krown       Lana Gala  lanag@krown.com     +3706774423\n",
       "6            7          Booo      Kara Janis   karaj@booo.com     +3706554433"
      ]
     },
     "execution_count": 16,
     "metadata": {},
     "output_type": "execute_result"
    }
   ],
   "source": [
    "suppliers_df"
   ]
  },
  {
   "cell_type": "code",
   "execution_count": 25,
   "id": "7504cea8",
   "metadata": {},
   "outputs": [],
   "source": [
    "import pandas as pd\n",
    "import pymysql\n",
    "\n",
    "from sqlalchemy import create_engine\n",
    "from sqlalchemy import text\n",
    "\n",
    "\n",
    "engine = create_engine(\"mysql+pymysql://root:@localhost/python course\")\n",
    " \n",
    "\n",
    "with engine.begin() as con:\n",
    "    query = text(\"SELECT * FROM suppliers\")\n",
    "    suppliers_df = pd.read_sql(query,con)\n",
    "    suppliers_df.to_csv(\"Suppliers1.csv\",index=False, encoding=\"utf8\", sep=\";\")\n",
    "    suppliers_df.to_excel(\"Suppliers1.xlsx\",index=False)"
   ]
  },
  {
   "cell_type": "code",
   "execution_count": 29,
   "id": "b7867bf1",
   "metadata": {},
   "outputs": [
    {
     "data": {
      "text/plain": [
       "3"
      ]
     },
     "execution_count": 29,
     "metadata": {},
     "output_type": "execute_result"
    }
   ],
   "source": [
    "import pandas as pd\n",
    "import pymysql\n",
    "\n",
    "from sqlalchemy import create_engine\n",
    "engine = create_engine(\"mysql+pymysql://root:@localhost/python course\")\n",
    "\n",
    "df = pd.read_excel(r\"C:\\Users\\pauli\\Desktop\\PhytonCourse\\SQL\\Suppliers1.xlsx\")\n",
    "# df = pd.read_excel(r\"C:\\Users\\pauli\\Desktop\\PhytonCourse\\SQL\\Suppliers1.xlsx\",converters={\"Name\":str,\"contact\" ID:str},names=(\"\"))\n",
    "df.to_sql(name=\"suppliers\",con=engine,if_exists=\"append\",index=False)\n"
   ]
  }
 ],
 "metadata": {
  "kernelspec": {
   "display_name": "Python 3 (ipykernel)",
   "language": "python",
   "name": "python3"
  },
  "language_info": {
   "codemirror_mode": {
    "name": "ipython",
    "version": 3
   },
   "file_extension": ".py",
   "mimetype": "text/x-python",
   "name": "python",
   "nbconvert_exporter": "python",
   "pygments_lexer": "ipython3",
   "version": "3.11.2"
  }
 },
 "nbformat": 4,
 "nbformat_minor": 5
}
